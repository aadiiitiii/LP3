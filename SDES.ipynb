{
 "cells": [
  {
   "cell_type": "code",
   "execution_count": 1,
   "metadata": {},
   "outputs": [],
   "source": [
    "from collections import deque"
   ]
  },
  {
   "cell_type": "code",
   "execution_count": 2,
   "metadata": {},
   "outputs": [],
   "source": [
    "def generate_key(key):\n",
    "    new_key=[]\n",
    "    for i in range(10):\n",
    "        new_key.append(key[p10[i]-1])\n",
    "    \n",
    "    #for first key\n",
    "\n",
    "    left_key=new_key[0:5]\n",
    "    right_key=new_key[5:10]\n",
    "\n",
    "    left_key=deque(left_key)\n",
    "    right_key=deque(right_key)\n",
    "\n",
    "    left_key.rotate(-1)\n",
    "    right_key.rotate(-1)\n",
    "\n",
    "    left_key=list(left_key)\n",
    "    right_key=list(right_key)\n",
    "\n",
    "    temp=left_key+right_key\n",
    "\n",
    "    key1=[]\n",
    "    \n",
    "    for i in range(8):\n",
    "        key1.append(temp[p8[i]-1])\n",
    "    \n",
    "    #For second key\n",
    "    \n",
    "    left_key=temp[0:5]\n",
    "    right_key=temp[5:10]\n",
    "\n",
    "    left_key=deque(left_key)\n",
    "    right_key=deque(right_key)\n",
    "\n",
    "    left_key.rotate(-2)\n",
    "    right_key.rotate(-2)\n",
    "\n",
    "    left_key=list(left_key)\n",
    "    right_key=list(right_key)\n",
    "\n",
    "    temp=left_key+right_key\n",
    "\n",
    "    key2=[]\n",
    "    \n",
    "    for i in range(8):\n",
    "        key2.append(temp[p8[i]-1])\n",
    "    \n",
    "    \n",
    "    return key1,key2\n"
   ]
  },
  {
   "cell_type": "code",
   "execution_count": 3,
   "metadata": {},
   "outputs": [],
   "source": [
    "def initial_permutation(plaintext):\n",
    "    result=[]\n",
    "    for i in range(8):\n",
    "        result.append(plaintext[initial_permute[i]-1])\n",
    "    return result"
   ]
  },
  {
   "cell_type": "code",
   "execution_count": 4,
   "metadata": {},
   "outputs": [],
   "source": [
    "def expansion_permutation(rpt):\n",
    "    result=[]\n",
    "    for i in range(8):\n",
    "        result.append(rpt[expansion_permute[i]-1])\n",
    "    return result"
   ]
  },
  {
   "cell_type": "code",
   "execution_count": 5,
   "metadata": {},
   "outputs": [],
   "source": [
    "def xor_operation(expanded_text,key):\n",
    "    result=[]\n",
    "    for i in range(8):\n",
    "        result.append(expanded_text[i]^key[i])\n",
    "    \n",
    "    return result"
   ]
  },
  {
   "cell_type": "code",
   "execution_count": 6,
   "metadata": {},
   "outputs": [],
   "source": [
    "def sbox_substitution(left,right):\n",
    "\n",
    "    row=str(left[0])\n",
    "    row=row+str(left[3])\n",
    "    col=str(left[1])\n",
    "    col=col+str(left[2])\n",
    "   \n",
    "\n",
    "    row=int(row,2)\n",
    "    col=int(col,2)\n",
    "    \n",
    "    result=s0[row][col]\n",
    "   \n",
    "\n",
    "    row=str(right[0])\n",
    "    row=row+str(right[3])\n",
    "    col=str(right[1])\n",
    "    col=col+str(right[2])\n",
    "   \n",
    "\n",
    "    row=int(row,2)\n",
    "    col=int(col,2)\n",
    "\n",
    "    result=result + s1[row][col]\n",
    "\n",
    "\n",
    "\n",
    "    return result"
   ]
  },
  {
   "cell_type": "code",
   "execution_count": 7,
   "metadata": {},
   "outputs": [],
   "source": [
    "def pbox_permutation(data):\n",
    "    result=[]\n",
    "\n",
    "    for i in range(4):\n",
    "        result.append(data[p4[i]-1])\n",
    "\n",
    "    return result"
   ]
  },
  {
   "cell_type": "code",
   "execution_count": 8,
   "metadata": {},
   "outputs": [],
   "source": [
    "def get_new_rpt(lpt,data):\n",
    "    result=[]\n",
    "    for i in range(4):\n",
    "        result.append(lpt[i]^data[i])\n",
    "    \n",
    "    return result"
   ]
  },
  {
   "cell_type": "code",
   "execution_count": 9,
   "metadata": {},
   "outputs": [],
   "source": [
    "def S_DES(lpt,rpt,keys):\n",
    "    #2 rounds\n",
    "    for i in range(2):\n",
    "   \n",
    "    \n",
    "        #Expansion Permutation\n",
    "        expanded_rpt=expansion_permutation(rpt)\n",
    "   \n",
    "    \n",
    "        #XOR with key\n",
    "        xored_result=xor_operation(expanded_rpt,keys[i])\n",
    "    \n",
    "\n",
    "        #S-Box Substitution\n",
    "        sbox_result=sbox_substitution(xored_result[0:4],xored_result[4:8])\n",
    "    \n",
    "\n",
    "        #P-Box Permutation\n",
    "        pbox_result=pbox_permutation(sbox_result)\n",
    "    \n",
    "\n",
    "        #Get new RPT\n",
    "        new_rpt=get_new_rpt(lpt,pbox_result)\n",
    "    \n",
    "        \n",
    "\n",
    "        #Exchange lpt rpt for next round\n",
    "     \n",
    "        if i==1:\n",
    "            #Do not SWAP in the last round\n",
    "            lpt=new_rpt\n",
    "        \n",
    "        else:\n",
    "            lpt=rpt\n",
    "            rpt=new_rpt\n",
    "\n",
    "    \n",
    "    return (lpt+rpt)\n"
   ]
  },
  {
   "cell_type": "code",
   "execution_count": 10,
   "metadata": {},
   "outputs": [],
   "source": [
    "def inverse_permutation(ans):\n",
    "    cipher=[]\n",
    "    for i in range(8):\n",
    "        cipher.append(ans[IP[i]-1])\n",
    "    return cipher\n"
   ]
  },
  {
   "cell_type": "code",
   "execution_count": 11,
   "metadata": {},
   "outputs": [],
   "source": [
    "p10=[3,5,2,7,4,10,1,9,8,6]\n",
    "p8=[6,3,7,4,8,5,10,9]\n",
    "initial_permute=[2,6,3,1,4,8,5,7]\n",
    "expansion_permute=[4,1,2,3,2,3,4,1]\n",
    "p4=[2,4,3,1]\n",
    "IP=[4,1,3,5,7,2,8,6]\n",
    "s0=[\n",
    "    [ [0,1],[0,0],[1,1],[1,0] ],\n",
    "    [ [1,1],[1,0],[0,1],[0,0] ],\n",
    "    [ [0,0],[1,0],[0,1],[1,1] ],\n",
    "    [ [1,1],[0,1],[1,1],[1,0] ]\n",
    "    ]\n",
    "s1=[\n",
    "    [ [0,0],[0,1],[1,0],[1,1] ],\n",
    "    [ [1,0],[0,0],[0,1],[1,1] ],\n",
    "    [ [1,1],[0,0],[0,1],[0,0] ],\n",
    "    [ [1,0],[0,1],[0,0],[1,1] ]\n",
    "   ]\n",
    "\n",
    "key=[1,0,1,0,0,0,0,0,1,0]\n",
    "plain_text=[0,1,1,0,1,1,0,1]"
   ]
  },
  {
   "cell_type": "code",
   "execution_count": 12,
   "metadata": {},
   "outputs": [
    {
     "name": "stdout",
     "output_type": "stream",
     "text": [
      "Plain Text =  [0, 1, 1, 0, 1, 1, 0, 1]\n",
      "Key1 =  [1, 0, 1, 0, 0, 1, 0, 0]\n",
      "Key2 =  [0, 1, 0, 0, 0, 0, 1, 1]\n"
     ]
    }
   ],
   "source": [
    "print (\"Plain Text = \",plain_text)\n",
    "#Generate Keys\n",
    "keys=generate_key(key)\n",
    "\n",
    "print (\"Key1 = \",keys[0])\n",
    "print (\"Key2 = \",keys[1])\n"
   ]
  },
  {
   "cell_type": "code",
   "execution_count": 13,
   "metadata": {},
   "outputs": [
    {
     "name": "stdout",
     "output_type": "stream",
     "text": [
      "------After Encryption------\n",
      "Cipher Text =  [0, 1, 0, 0, 0, 1, 1, 0]\n"
     ]
    }
   ],
   "source": [
    "#Perform Initial Permutation\n",
    "initial=initial_permutation(plain_text)\n",
    "lpt=initial[0:4]\n",
    "rpt=initial[4:8]\n",
    "\n",
    "#2 rounds of S-DES\n",
    "ans=S_DES(lpt,rpt,keys)\n",
    "\n",
    "#Final Permutation\n",
    "cipher=inverse_permutation(ans)\n",
    "\n",
    "print (\"------After Encryption------\")\n",
    "\n",
    "print (\"Cipher Text = \",cipher)\n"
   ]
  },
  {
   "cell_type": "code",
   "execution_count": 14,
   "metadata": {},
   "outputs": [
    {
     "name": "stdout",
     "output_type": "stream",
     "text": [
      "-----After Decryption-------\n",
      "Plain Text =  [0, 1, 1, 0, 1, 1, 0, 1]\n"
     ]
    }
   ],
   "source": [
    "Key1 =  [1, 0, 1, 0, 0, 1, 0, 0]\n",
    "Key2 =  [0, 1, 0, 0, 0, 0, 1, 1]\n",
    "\n",
    "#Reverse Order of keys for decryption\n",
    "keys=[]\n",
    "keys.append(Key2)\n",
    "keys.append(Key1)\n",
    "\n",
    "#Perform Initial Permutation\n",
    "initial=initial_permutation(cipher)\n",
    "lpt=initial[0:4]\n",
    "rpt=initial[4:8]\n",
    "\n",
    "ans=S_DES(lpt,rpt,keys)\n",
    "\n",
    "#Final Permutation\n",
    "plain=inverse_permutation(ans)\n",
    "\n",
    "\n",
    "print (\"-----After Decryption-------\")\n",
    "print (\"Plain Text = \",plain)\n"
   ]
  },
  {
   "cell_type": "code",
   "execution_count": null,
   "metadata": {},
   "outputs": [],
   "source": []
  }
 ],
 "metadata": {
  "kernelspec": {
   "display_name": "Python 3",
   "language": "python",
   "name": "python3"
  },
  "language_info": {
   "codemirror_mode": {
    "name": "ipython",
    "version": 3
   },
   "file_extension": ".py",
   "mimetype": "text/x-python",
   "name": "python",
   "nbconvert_exporter": "python",
   "pygments_lexer": "ipython3",
   "version": "3.7.3"
  }
 },
 "nbformat": 4,
 "nbformat_minor": 2
}
