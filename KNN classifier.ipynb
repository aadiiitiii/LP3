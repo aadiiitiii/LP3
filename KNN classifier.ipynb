{
 "cells": [
  {
   "cell_type": "code",
   "execution_count": 1,
   "metadata": {},
   "outputs": [],
   "source": [
    "import numpy as np\n",
    "import matplotlib.pyplot as plt\n",
    "import math\n",
    "import operator"
   ]
  },
  {
   "cell_type": "code",
   "execution_count": 2,
   "metadata": {},
   "outputs": [],
   "source": [
    "#dictionary to hold points and color\n",
    "points= {\n",
    "    (4,2): 'y',\n",
    "    (6,2): 'b',\n",
    "    (2,4): 'y',\n",
    "    (4,4): 'b',\n",
    "    (6,4): 'y',\n",
    "    (4,6): 'y'\n",
    "}\n",
    "#k is given\n",
    "k=3\n"
   ]
  },
  {
   "cell_type": "code",
   "execution_count": 3,
   "metadata": {},
   "outputs": [
    {
     "name": "stdout",
     "output_type": "stream",
     "text": [
      "[[4 2]\n",
      " [6 2]\n",
      " [2 4]\n",
      " [4 4]\n",
      " [6 4]\n",
      " [4 6]]\n"
     ]
    }
   ],
   "source": [
    "#choose only the keys of dictionary\n",
    "POINTS= points.keys()\n",
    "array= np.array(list(POINTS))\n",
    "print(array)"
   ]
  },
  {
   "cell_type": "code",
   "execution_count": 4,
   "metadata": {},
   "outputs": [],
   "source": [
    "#new point whose class to be determined\n",
    "new_point= np.array([6,6])"
   ]
  },
  {
   "cell_type": "code",
   "execution_count": 5,
   "metadata": {},
   "outputs": [
    {
     "name": "stdout",
     "output_type": "stream",
     "text": [
      "[4 5 3]\n"
     ]
    }
   ],
   "source": [
    "#arrray which will store the distance\n",
    "neighbours= np.argsort(np.sqrt(np.sum((array-new_point)**2,axis=1)))[:k]\n",
    "print(neighbours)"
   ]
  },
  {
   "cell_type": "code",
   "execution_count": 6,
   "metadata": {},
   "outputs": [],
   "source": [
    "#to store occurences of y & b\n",
    "classvotes= {\n",
    "    'b':0,\n",
    "    'y':0\n",
    "}\n",
    "for i in neighbours:\n",
    "    classvotes[list(points.values())[i]]+=1"
   ]
  },
  {
   "cell_type": "code",
   "execution_count": 7,
   "metadata": {},
   "outputs": [
    {
     "name": "stdout",
     "output_type": "stream",
     "text": [
      "{'b': 1, 'y': 2}\n"
     ]
    }
   ],
   "source": [
    "print(classvotes)"
   ]
  },
  {
   "cell_type": "code",
   "execution_count": 8,
   "metadata": {},
   "outputs": [
    {
     "name": "stdout",
     "output_type": "stream",
     "text": [
      "y\n"
     ]
    }
   ],
   "source": [
    "print(max(classvotes.items())[0])"
   ]
  },
  {
   "cell_type": "code",
   "execution_count": 9,
   "metadata": {},
   "outputs": [],
   "source": [
    "points[tuple(new_point)]=str(max(classvotes.items())[0])"
   ]
  },
  {
   "cell_type": "code",
   "execution_count": 10,
   "metadata": {},
   "outputs": [
    {
     "name": "stdout",
     "output_type": "stream",
     "text": [
      "{(4, 2): 'y', (6, 2): 'b', (2, 4): 'y', (4, 4): 'b', (6, 4): 'y', (4, 6): 'y', (6, 6): 'y'}\n"
     ]
    }
   ],
   "source": [
    "print(points)"
   ]
  },
  {
   "cell_type": "code",
   "execution_count": 11,
   "metadata": {},
   "outputs": [
    {
     "data": {
      "image/png": "[encoded data removed]",
      "text/plain": [
       "<Figure size 432x288 with 1 Axes>"
      ]
     },
     "metadata": {
      "needs_background": "light"
     },
     "output_type": "display_data"
    }
   ],
   "source": [
    "for point in points:\n",
    "    plt.plot(point[0],point[1],color=points[tuple(point)],marker=\"*\",markersize=15)\n",
    "\n",
    "plt.grid()"
   ]
  },
  {
   "cell_type": "code",
   "execution_count": null,
   "metadata": {},
   "outputs": [],
   "source": []
  }
 ],
 "metadata": {
  "kernelspec": {
   "display_name": "Python 3",
   "language": "python",
   "name": "python3"
  },
  "language_info": {
   "codemirror_mode": {
    "name": "ipython",
    "version": 3
   },
   "file_extension": ".py",
   "mimetype": "text/x-python",
   "name": "python",
   "nbconvert_exporter": "python",
   "pygments_lexer": "ipython3",
   "version": "3.7.3"
  }
 },
 "nbformat": 4,
 "nbformat_minor": 2
}
