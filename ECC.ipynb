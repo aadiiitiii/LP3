{
 "cells": [
  {
   "cell_type": "code",
   "execution_count": 1,
   "metadata": {},
   "outputs": [],
   "source": [
    "import numpy as np"
   ]
  },
  {
   "cell_type": "code",
   "execution_count": 2,
   "metadata": {},
   "outputs": [
    {
     "name": "stdout",
     "output_type": "stream",
     "text": [
      "Enter a for ellipse: \n",
      "4\n",
      "Enter b for ellipse: \n",
      "8\n"
     ]
    }
   ],
   "source": [
    "#a & b define the curve\n",
    "print(\"Enter a for ellipse: \")\n",
    "a= int(input())\n",
    "print(\"Enter b for ellipse: \")\n",
    "b= int(input())"
   ]
  },
  {
   "cell_type": "code",
   "execution_count": 3,
   "metadata": {},
   "outputs": [],
   "source": [
    "#equation of elliptic curves\n",
    "if(4*(a**3)+27*(b**2))==0:\n",
    "    print(\"Singularity violated!\")"
   ]
  },
  {
   "cell_type": "code",
   "execution_count": 4,
   "metadata": {},
   "outputs": [],
   "source": [
    "#find the generating points for curve\n",
    "x=1.0\n",
    "y=0.0\n",
    "while True:\n",
    "    if x>(10**6):\n",
    "        print (\"G does not exist for finite space\")\n",
    "    y=(x**3)+(a*x)+b\n",
    "    if (y).is_integer()==True:\n",
    "        break\n",
    "    else:\n",
    "        x=x+1"
   ]
  },
  {
   "cell_type": "code",
   "execution_count": 5,
   "metadata": {},
   "outputs": [
    {
     "name": "stdout",
     "output_type": "stream",
     "text": [
      "The generator points on the curve are:  [ 1 13]\n"
     ]
    }
   ],
   "source": [
    "G=np.array([int(x),int(y)])\n",
    "print(\"The generator points on the curve are: \",G)"
   ]
  },
  {
   "cell_type": "code",
   "execution_count": 6,
   "metadata": {},
   "outputs": [
    {
     "name": "stdout",
     "output_type": "stream",
     "text": [
      "Enter private key for Alice: \n",
      "5\n",
      "Enter private key for Bob: \n",
      "8\n"
     ]
    }
   ],
   "source": [
    "#accept private keys for Alice and Bob\n",
    "print(\"Enter private key for Alice: \")\n",
    "kA= int(input())\n",
    "print(\"Enter private key for Bob: \")\n",
    "kB= int(input())"
   ]
  },
  {
   "cell_type": "code",
   "execution_count": 7,
   "metadata": {},
   "outputs": [
    {
     "name": "stdout",
     "output_type": "stream",
     "text": [
      "The public key for Alice is:  [ 5 65]\n"
     ]
    }
   ],
   "source": [
    "#generate public key for alice\n",
    "pA= np.array([])\n",
    "pA= kA*G\n",
    "print(\"The public key for Alice is: \",pA)"
   ]
  },
  {
   "cell_type": "code",
   "execution_count": 8,
   "metadata": {},
   "outputs": [
    {
     "name": "stdout",
     "output_type": "stream",
     "text": [
      "The public key for Bob is:  [  8 104]\n"
     ]
    }
   ],
   "source": [
    "#generate public key for bob\n",
    "pB= np.array([])\n",
    "pB= kB*G\n",
    "print(\"The public key for Bob is: \",pB)"
   ]
  },
  {
   "cell_type": "code",
   "execution_count": 9,
   "metadata": {},
   "outputs": [
    {
     "name": "stdout",
     "output_type": "stream",
     "text": [
      "The shared key1 is:  [ 40 520]\n"
     ]
    }
   ],
   "source": [
    "#shared key 1\n",
    "key1= np.array([])\n",
    "key1= kA*pB\n",
    "print(\"The shared key1 is: \",key1)"
   ]
  },
  {
   "cell_type": "code",
   "execution_count": 10,
   "metadata": {},
   "outputs": [
    {
     "name": "stdout",
     "output_type": "stream",
     "text": [
      "The shared key2 is:  [ 40 520]\n"
     ]
    }
   ],
   "source": [
    "#shared key 2\n",
    "key2= np.array([])\n",
    "key2= kB*pA\n",
    "print(\"The shared key2 is: \",key2)"
   ]
  },
  {
   "cell_type": "code",
   "execution_count": 11,
   "metadata": {},
   "outputs": [
    {
     "name": "stdout",
     "output_type": "stream",
     "text": [
      "Keys match! Message can be sent!\n"
     ]
    }
   ],
   "source": [
    "if np.array_equal(key1,key2):\n",
    "    print(\"Keys match! Message can be sent!\")\n",
    "else: \n",
    "    print(\"Keys do not match!\")"
   ]
  },
  {
   "cell_type": "code",
   "execution_count": 12,
   "metadata": {},
   "outputs": [
    {
     "name": "stdout",
     "output_type": "stream",
     "text": [
      "Enter points(x,y) to be sent: \n",
      "6\n",
      "9\n"
     ]
    }
   ],
   "source": [
    "#points to be sent\n",
    "print(\"Enter points(x,y) to be sent: \")\n",
    "x= int(input())\n",
    "y= int(input())"
   ]
  },
  {
   "cell_type": "code",
   "execution_count": 13,
   "metadata": {},
   "outputs": [],
   "source": [
    "m= np.array([x,y])"
   ]
  },
  {
   "cell_type": "code",
   "execution_count": 14,
   "metadata": {},
   "outputs": [
    {
     "name": "stdout",
     "output_type": "stream",
     "text": [
      "The cipher text is:  [  40 6760]   [  326 54089]\n"
     ]
    }
   ],
   "source": [
    "#cipher text\n",
    "k=key1\n",
    "c1= np.array([])\n",
    "c1= k*G\n",
    "c2= m+k*pB\n",
    "print(\"The cipher text is: \",c1,\" \",c2)"
   ]
  },
  {
   "cell_type": "code",
   "execution_count": 15,
   "metadata": {},
   "outputs": [
    {
     "name": "stdout",
     "output_type": "stream",
     "text": [
      "The decrypted msg is:  [6 9]\n"
     ]
    }
   ],
   "source": [
    "#plain text\n",
    "decrypt= c2-(kB*c1)\n",
    "print(\"The decrypted msg is: \",decrypt)"
   ]
  },
  {
   "cell_type": "code",
   "execution_count": null,
   "metadata": {},
   "outputs": [],
   "source": []
  }
 ],
 "metadata": {
  "kernelspec": {
   "display_name": "Python 3",
   "language": "python",
   "name": "python3"
  },
  "language_info": {
   "codemirror_mode": {
    "name": "ipython",
    "version": 3
   },
   "file_extension": ".py",
   "mimetype": "text/x-python",
   "name": "python",
   "nbconvert_exporter": "python",
   "pygments_lexer": "ipython3",
   "version": "3.7.3"
  }
 },
 "nbformat": 4,
 "nbformat_minor": 2
}
