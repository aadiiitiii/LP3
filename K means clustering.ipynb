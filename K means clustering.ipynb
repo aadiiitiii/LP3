{
 "cells": [
  {
   "cell_type": "code",
   "execution_count": 9,
   "metadata": {},
   "outputs": [],
   "source": [
    "import numpy as np\n",
    "import matplotlib.pyplot as plt\n",
    "import math"
   ]
  },
  {
   "cell_type": "code",
   "execution_count": 10,
   "metadata": {},
   "outputs": [
    {
     "name": "stdout",
     "output_type": "stream",
     "text": [
      "[0.1, 0.15, 0.08, 0.16, 0.2, 0.25, 0.24, 0.3]\n",
      "[0.6, 0.71, 0.9, 0.85, 0.3, 0.5, 0.1, 0.2]\n"
     ]
    }
   ],
   "source": [
    "x_points= [0.1,0.15,0.08,0.16,0.2,0.25,0.24,0.3]\n",
    "print(x_points)\n",
    "y_points= [0.6,0.71,0.9,0.85,0.3,0.5,0.1,0.2]\n",
    "print(y_points)"
   ]
  },
  {
   "cell_type": "code",
   "execution_count": 11,
   "metadata": {},
   "outputs": [
    {
     "data": {
      "image/png": "[encoded data removed]",
      "text/plain": [
       "<Figure size 432x288 with 1 Axes>"
      ]
     },
     "metadata": {
      "needs_background": "light"
     },
     "output_type": "display_data"
    }
   ],
   "source": [
    "plt.plot(x_points,y_points,\"g*\")\n",
    "plt.grid()\n",
    "plt.show()"
   ]
  },
  {
   "cell_type": "code",
   "execution_count": 13,
   "metadata": {},
   "outputs": [],
   "source": [
    "def ecdistance(m,x,y):\n",
    "    return math.sqrt(((m[0]-x)**2)+((m[1]-y)**2))"
   ]
  },
  {
   "cell_type": "code",
   "execution_count": 14,
   "metadata": {},
   "outputs": [],
   "source": [
    "def return_clust(m1,m2,x,y):\n",
    "    dist1= ecdistance(m1,x,y)\n",
    "    dist2= ecdistance(m2,x,y)\n",
    "    if dist1<dist2:\n",
    "        return 1\n",
    "    else:\n",
    "        return 2"
   ]
  },
  {
   "cell_type": "code",
   "execution_count": 15,
   "metadata": {},
   "outputs": [],
   "source": [
    "m1=[0.1,0.6]\n",
    "m2=[0.3,0.2]\n",
    "threshold= 0.02\n",
    "difference= math.inf\n",
    "cluster1=[]\n",
    "cluster2=[]"
   ]
  },
  {
   "cell_type": "code",
   "execution_count": 21,
   "metadata": {},
   "outputs": [
    {
     "name": "stdout",
     "output_type": "stream",
     "text": [
      "---------------\n",
      "First centroid:  [0.148, 1.1866666666666668]\n",
      "Second centroid:  [0.24666666666666667, 0.20000000000000004]\n",
      "0.25333333333333335\n",
      "---------------\n",
      "First centroid:  [0.13, 0.82]\n",
      "Second centroid:  [0.21800000000000003, 0.33999999999999997]\n",
      "0.05999999999999994\n",
      "---------------\n",
      "First centroid:  [0.1225, 0.765]\n",
      "Second centroid:  [0.2475, 0.275]\n",
      "0.0\n"
     ]
    }
   ],
   "source": [
    "while(difference>threshold):\n",
    "    print(\"---------------\")\n",
    "    print(\"First centroid: \",m1)\n",
    "    print(\"Second centroid: \",m2)\n",
    "    cluster1= []\n",
    "    cluster2= []\n",
    "    for i in range(len(x_points)):\n",
    "        clust_num= return_clust(m1,m2,x_points[i],y_points[i])\n",
    "        point=[x_points[i],y_points[i]]\n",
    "        \n",
    "        if clust_num==1:\n",
    "            cluster1.append(point)\n",
    "        else:\n",
    "            cluster2.append(point)\n",
    "        \n",
    "    x_sum=0\n",
    "    y_sum=0\n",
    "    for i in range(len(cluster1)):\n",
    "        x_sum= x_sum+cluster1[i][0]\n",
    "        y_sum= y_sum+cluster1[i][1]\n",
    "        \n",
    "    x_sum= x_sum/len(cluster1)\n",
    "    y_sum= y_sum/len(cluster1)\n",
    "    \n",
    "    m1old=m1\n",
    "    m1=[]\n",
    "    m1=[x_sum,y_sum]\n",
    "    \n",
    "    x_sum=0\n",
    "    y_sum=0\n",
    "    for i in range(len(cluster2)):\n",
    "        x_sum= x_sum+cluster2[i][0]\n",
    "        y_sum= y_sum+cluster2[i][1]\n",
    "        \n",
    "    x_sum= x_sum/len(cluster2)\n",
    "    y_sum= y_sum/len(cluster2)\n",
    "    \n",
    "    m2old=m2\n",
    "    m2=[]\n",
    "    m2=[x_sum,y_sum]\n",
    "    \n",
    "    x_avg=0.0\n",
    "    y_avg=0.0\n",
    "    \n",
    "    x_avg= math.fabs(m2[0]-m2old[0])+math.fabs(m1[0]-m1old[0])\n",
    "    x_avg= x_avg/2\n",
    "    y_avg= math.fabs(m2[1]-m2old[1])+math.fabs(m1[1]-m1old[1])\n",
    "    y_avg= y_avg/2\n",
    "    \n",
    "    if x_avg>y_avg:\n",
    "        difference=x_avg\n",
    "    else:\n",
    "        difference= y_avg\n",
    "        \n",
    "    print(difference)\n",
    "    "
   ]
  },
  {
   "cell_type": "code",
   "execution_count": 22,
   "metadata": {},
   "outputs": [
    {
     "name": "stdout",
     "output_type": "stream",
     "text": [
      "[[0.1, 0.6], [0.15, 0.71], [0.08, 0.9], [0.16, 0.85]]\n",
      "[[0.2, 0.3], [0.25, 0.5], [0.24, 0.1], [0.3, 0.2]]\n"
     ]
    }
   ],
   "source": [
    "print(cluster1)\n",
    "print(cluster2)"
   ]
  },
  {
   "cell_type": "code",
   "execution_count": 30,
   "metadata": {},
   "outputs": [
    {
     "data": {
      "image/png": "[encoded data removed]",
      "text/plain": [
       "<Figure size 432x288 with 1 Axes>"
      ]
     },
     "metadata": {
      "needs_background": "light"
     },
     "output_type": "display_data"
    }
   ],
   "source": [
    "x1= [x[0] for x in cluster1]\n",
    "y1= [x[1] for x in cluster1]\n",
    "plt.plot(x1,y1,\"g*\")\n",
    "x1= [x[0] for x in cluster2]\n",
    "y1= [x[1] for x in cluster2]\n",
    "plt.plot(x1,y1,\"b*\")\n",
    "plt.grid()"
   ]
  },
  {
   "cell_type": "code",
   "execution_count": null,
   "metadata": {},
   "outputs": [],
   "source": []
  }
 ],
 "metadata": {
  "kernelspec": {
   "display_name": "Python 3",
   "language": "python",
   "name": "python3"
  },
  "language_info": {
   "codemirror_mode": {
    "name": "ipython",
    "version": 3
   },
   "file_extension": ".py",
   "mimetype": "text/x-python",
   "name": "python",
   "nbconvert_exporter": "python",
   "pygments_lexer": "ipython3",
   "version": "3.7.3"
  }
 },
 "nbformat": 4,
 "nbformat_minor": 2
}
